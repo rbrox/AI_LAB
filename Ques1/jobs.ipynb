{
 "cells": [
  {
   "cell_type": "code",
   "execution_count": 5,
   "metadata": {},
   "outputs": [
    {
     "name": "stdout",
     "output_type": "stream",
     "text": [
      "Requirement already satisfied: pandas in /opt/anaconda3/lib/python3.11/site-packages (2.1.4)\n",
      "Requirement already satisfied: numpy<2,>=1.23.2 in /opt/anaconda3/lib/python3.11/site-packages (from pandas) (1.26.4)\n",
      "Requirement already satisfied: python-dateutil>=2.8.2 in /opt/anaconda3/lib/python3.11/site-packages (from pandas) (2.8.2)\n",
      "Requirement already satisfied: pytz>=2020.1 in /opt/anaconda3/lib/python3.11/site-packages (from pandas) (2023.3.post1)\n",
      "Requirement already satisfied: tzdata>=2022.1 in /opt/anaconda3/lib/python3.11/site-packages (from pandas) (2023.3)\n",
      "Requirement already satisfied: six>=1.5 in /opt/anaconda3/lib/python3.11/site-packages (from python-dateutil>=2.8.2->pandas) (1.16.0)\n",
      "Requirement already satisfied: numpy in /opt/anaconda3/lib/python3.11/site-packages (1.26.4)\n"
     ]
    },
    {
     "ename": "ModuleNotFoundError",
     "evalue": "No module named 'pandas'",
     "output_type": "error",
     "traceback": [
      "\u001b[0;31m---------------------------------------------------------------------------\u001b[0m",
      "\u001b[0;31mModuleNotFoundError\u001b[0m                       Traceback (most recent call last)",
      "Cell \u001b[0;32mIn[5], line 4\u001b[0m\n\u001b[1;32m      1\u001b[0m get_ipython()\u001b[38;5;241m.\u001b[39msystem(\u001b[38;5;124m'\u001b[39m\u001b[38;5;124m pip install pandas\u001b[39m\u001b[38;5;124m'\u001b[39m)\n\u001b[1;32m      2\u001b[0m get_ipython()\u001b[38;5;241m.\u001b[39msystem(\u001b[38;5;124m'\u001b[39m\u001b[38;5;124m pip install numpy\u001b[39m\u001b[38;5;124m'\u001b[39m)\n\u001b[0;32m----> 4\u001b[0m \u001b[38;5;28;01mimport\u001b[39;00m \u001b[38;5;21;01mpandas\u001b[39;00m \u001b[38;5;28;01mas\u001b[39;00m \u001b[38;5;21;01mpd\u001b[39;00m\n\u001b[1;32m      5\u001b[0m \u001b[38;5;28;01mimport\u001b[39;00m \u001b[38;5;21;01mnumpy\u001b[39;00m \u001b[38;5;28;01mas\u001b[39;00m \u001b[38;5;21;01mnp\u001b[39;00m\n\u001b[1;32m      7\u001b[0m \u001b[38;5;28;01mdef\u001b[39;00m \u001b[38;5;21mmakedata\u001b[39m():\n\u001b[1;32m      8\u001b[0m \n\u001b[1;32m      9\u001b[0m \u001b[38;5;66;03m# Define the array\u001b[39;00m\n",
      "\u001b[0;31mModuleNotFoundError\u001b[0m: No module named 'pandas'"
     ]
    }
   ],
   "source": [
    "! pip install pandas\n",
    "! pip install numpy\n",
    "\n",
    "import pandas as pd\n",
    "import numpy as np\n",
    "\n",
    "def makedata():\n",
    "\n",
    "# Define the array\n",
    "    data = [[30.0, 'unemployed', 'married', 1787.0, 'no', 'no', 'cellular', 'oct'],\n",
    "            [33.0, 'services', 'married', 4789.0, 'yes', 'yes', 'cellular', 'may'],\n",
    "            [35.0, 'management', 'single', 1350.0, 'yes', 'no', 'cellular', 'apr'],\n",
    "            [30.0, 'management', 'married', 1476.0, 'yes', 'yes', 'unknown', 'jun'],\n",
    "            [59.0, 'blue-collar', 'married', 0.0, 'yes', 'no', 'unknown', 'may'],\n",
    "            [35.0, 'management', 'single', 747.0, 'no', 'no', 'cellular', 'feb'],\n",
    "            [36.0, 'self-employed', 'married', 307.0, 'yes', 'no', 'cellular', 'may'],\n",
    "            [39.0, 'technician', 'married', 147.0, 'yes', 'no', 'cellular', 'may'],\n",
    "            [41.0, 'entrepreneur', 'married', 221.0, 'yes', 'no', 'unknown', 'may'],\n",
    "            [43.0, 'services', 'married', -88.0, 'yes', 'yes', 'cellular', 'apr'],\n",
    "            [39.0, 'services', 'married', 9374.0, 'yes', 'no', 'unknown', 'may'],\n",
    "            [43.0, 'admin.', 'married', 264.0, 'yes', 'no', 'cellular', 'apr'],\n",
    "            [36.0, 'technician', 'married', 1109.0, 'no', 'no', 'cellular', 'aug'],\n",
    "            [20.0, 'student', 'single', 502.0, 'no', 'no', 'cellular', 'apr'],\n",
    "            [31.0, 'blue-collar', 'married', 360.0, 'yes', 'yes', 'cellular', 'jan'],\n",
    "            [40.0, 'management', 'married', 194.0, 'no', 'yes', 'cellular', 'aug'],\n",
    "            [56.0, 'technician', 'married', 4073.0, 'no', 'no', 'cellular', 'aug'],\n",
    "            [37.0, 'admin.', 'single', 2317.0, 'yes', 'no', 'cellular', 'apr'],\n",
    "            [25.0, 'blue-collar', 'single', -221.0, 'yes', 'no', 'unknown', 'may'],\n",
    "            [31.0, 'services', 'married', 132.0, 'no', 'no', 'cellular', 'jul']]\n",
    "\n",
    "    columns = ['age', 'job', 'marital', 'balance', 'loan', 'housing', 'contact', 'month']\n",
    "    return pd.DataFrame(data, columns=columns)\n",
    "\n",
    "\n",
    "\n"
   ]
  },
  {
   "cell_type": "code",
   "execution_count": null,
   "metadata": {},
   "outputs": [
    {
     "ename": "NameError",
     "evalue": "name 'pd' is not defined",
     "output_type": "error",
     "traceback": [
      "\u001b[0;31m---------------------------------------------------------------------------\u001b[0m",
      "\u001b[0;31mNameError\u001b[0m                                 Traceback (most recent call last)",
      "Cell \u001b[0;32mIn[6], line 1\u001b[0m\n\u001b[0;32m----> 1\u001b[0m df \u001b[38;5;241m=\u001b[39m \u001b[43mmakedata\u001b[49m\u001b[43m(\u001b[49m\u001b[43m)\u001b[49m\n\u001b[1;32m      2\u001b[0m np\u001b[38;5;241m.\u001b[39msum(df[:\u001b[38;5;241m5\u001b[39m,\u001b[38;5;241m3\u001b[39m])\n",
      "Cell \u001b[0;32mIn[1], line 29\u001b[0m, in \u001b[0;36mmakedata\u001b[0;34m()\u001b[0m\n\u001b[1;32m     26\u001b[0m columns \u001b[38;5;241m=\u001b[39m [\u001b[38;5;124m'\u001b[39m\u001b[38;5;124mage\u001b[39m\u001b[38;5;124m'\u001b[39m, \u001b[38;5;124m'\u001b[39m\u001b[38;5;124mjob\u001b[39m\u001b[38;5;124m'\u001b[39m, \u001b[38;5;124m'\u001b[39m\u001b[38;5;124mmarital\u001b[39m\u001b[38;5;124m'\u001b[39m, \u001b[38;5;124m'\u001b[39m\u001b[38;5;124mbalance\u001b[39m\u001b[38;5;124m'\u001b[39m, \u001b[38;5;124m'\u001b[39m\u001b[38;5;124mloan\u001b[39m\u001b[38;5;124m'\u001b[39m, \u001b[38;5;124m'\u001b[39m\u001b[38;5;124mhousing\u001b[39m\u001b[38;5;124m'\u001b[39m, \u001b[38;5;124m'\u001b[39m\u001b[38;5;124mcontact\u001b[39m\u001b[38;5;124m'\u001b[39m, \u001b[38;5;124m'\u001b[39m\u001b[38;5;124mmonth\u001b[39m\u001b[38;5;124m'\u001b[39m]\n\u001b[1;32m     28\u001b[0m \u001b[38;5;66;03m# Create DataFrame\u001b[39;00m\n\u001b[0;32m---> 29\u001b[0m df \u001b[38;5;241m=\u001b[39m \u001b[43mpd\u001b[49m\u001b[38;5;241m.\u001b[39mDataFrame(data, columns\u001b[38;5;241m=\u001b[39mcolumns)\n",
      "\u001b[0;31mNameError\u001b[0m: name 'pd' is not defined"
     ]
    }
   ],
   "source": [
    "df = makedata()\n"
   ]
  },
  {
   "cell_type": "code",
   "execution_count": null,
   "metadata": {},
   "outputs": [],
   "source": [
    "hasHousing = df['housing' == 'yes']\n",
    "print(hasHousing)"
   ]
  },
  {
   "cell_type": "code",
   "execution_count": null,
   "metadata": {},
   "outputs": [],
   "source": [
    "avg = df['balance'].mean()\n",
    "print(avg)"
   ]
  },
  {
   "cell_type": "code",
   "execution_count": null,
   "metadata": {},
   "outputs": [],
   "source": [
    "hasHousing = df[df['housing'] == 'yes']\n",
    "print(len(hasHousing))"
   ]
  }
 ],
 "metadata": {
  "kernelspec": {
   "display_name": "Python 3",
   "language": "python",
   "name": "python3"
  },
  "language_info": {
   "codemirror_mode": {
    "name": "ipython",
    "version": 3
   },
   "file_extension": ".py",
   "mimetype": "text/x-python",
   "name": "python",
   "nbconvert_exporter": "python",
   "pygments_lexer": "ipython3",
   "version": "3.12.2"
  }
 },
 "nbformat": 4,
 "nbformat_minor": 2
}
