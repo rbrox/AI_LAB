{
 "cells": [
  {
   "cell_type": "code",
   "execution_count": null,
   "metadata": {},
   "outputs": [],
   "source": [
    "import pandas as pd\n",
    "from faker import Faker\n",
    "import random\n",
    "\n",
    "def make_fake_imdb_movie_dataset(num_entries=20):\n",
    "    # Initialize Faker object\n",
    "    fake = Faker()\n",
    "\n",
    "    # Create empty lists to store movie attributes\n",
    "    titles = []\n",
    "    genres = []\n",
    "    release_years = []\n",
    "    ratings = []\n",
    "\n",
    "    # Generate fake movie data\n",
    "    for _ in range(num_entries):\n",
    "        titles.append(fake.catch_phrase())  # Generate a random movie title\n",
    "        genres.append(fake.word())          # Generate a random genre\n",
    "        release_years.append(fake.year())   # Generate a random release year\n",
    "        ratings.append(round(random.uniform(0, 10), 1))  # Generate a random rating between 0 and 10\n",
    "\n",
    "    # Create DataFrame from the generated data\n",
    "    df = pd.DataFrame({\n",
    "        'Title': titles,\n",
    "        'Genre': genres,\n",
    "        'Release_Year': release_years,\n",
    "        'Rating': ratings\n",
    "    })\n",
    "\n",
    "    return df\n",
    "\n",
    "# Example usage:\n",
    "fake_imdb_df = make_fake_imdb_movie_dataset()\n",
    "print(fake_imdb_df)\n"
   ]
  }
 ],
 "metadata": {
  "language_info": {
   "name": "python"
  }
 },
 "nbformat": 4,
 "nbformat_minor": 2
}
