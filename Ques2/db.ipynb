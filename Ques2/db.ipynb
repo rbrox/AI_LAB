{
 "cells": [
  {
   "cell_type": "code",
   "execution_count": null,
   "metadata": {},
   "outputs": [],
   "source": [
    "! pip install mysql-connector-python \n",
    "import mysql.connector as m \n",
    "conn=m.connect( host=\"localhost\", user=\"root\", password=\"password\",)"
   ]
  },
  {
   "cell_type": "code",
   "execution_count": null,
   "metadata": {},
   "outputs": [],
   "source": [
    "cur=conn.cursor() \n",
    "cur.execute(\"CREATE DATABASE CSM\")"
   ]
  },
  {
   "cell_type": "code",
   "execution_count": null,
   "metadata": {},
   "outputs": [],
   "source": [
    "db=m.connect( host=\"localhost\", user=\"root\", password=\"password\", database=\"CSM\")"
   ]
  },
  {
   "cell_type": "code",
   "execution_count": null,
   "metadata": {},
   "outputs": [],
   "source": [
    "print(db) \n",
    "dbcur=db.cursor()"
   ]
  },
  {
   "cell_type": "code",
   "execution_count": null,
   "metadata": {},
   "outputs": [],
   "source": [
    "dbcur.execute(\"CREATE TABLE Products(Productname varchar(100),Cost int)\"); dbcur.execute(\"SHOW TABLES\") \n",
    "for q in dbcur: \n",
    "    print(q)"
   ]
  },
  {
   "cell_type": "code",
   "execution_count": null,
   "metadata": {},
   "outputs": [],
   "source": [
    "sql='INSERT INTO products (Productname,Cost) Values (%s,%s)' \n",
    "val=[('Pen',10),('Book',110),('Marker',30)] \n",
    "dbcur.executemany(sql,val) \n",
    "db.commit() \n",
    "print(dbcur.rowcount,\"rows are inserted.\")"
   ]
  },
  {
   "cell_type": "code",
   "execution_count": null,
   "metadata": {},
   "outputs": [],
   "source": [
    "dbcur.execute(\"SELECT * FROM products\") \n",
    "for row in dbcur: \n",
    "    print(row)"
   ]
  },
  {
   "cell_type": "code",
   "execution_count": null,
   "metadata": {},
   "outputs": [],
   "source": [
    "dbcur.execute(\"SELECT Productname FROM products where cost<50\") \n",
    "for row in dbcur: print(row)"
   ]
  }
 ],
 "metadata": {
  "language_info": {
   "name": "python"
  }
 },
 "nbformat": 4,
 "nbformat_minor": 2
}
